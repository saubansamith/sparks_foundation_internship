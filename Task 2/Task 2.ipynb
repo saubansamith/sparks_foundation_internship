{
 "cells": [
  {
   "cell_type": "markdown",
   "id": "80780a39-c429-4077-8e02-49f7bb312c36",
   "metadata": {},
   "source": [
    "# <center> <font style='color:cyan'> K-Means Clustering</font></center>"
   ]
  },
  {
   "cell_type": "markdown",
   "id": "037b2513-b5a9-4e2b-a389-740545f6b15f",
   "metadata": {},
   "source": [
    "## <font color='red'> About Task:</font>"
   ]
  },
  {
   "cell_type": "markdown",
   "id": "0dcf029c-2416-40a0-98ac-b97908be4067",
   "metadata": {
    "jp-MarkdownHeadingCollapsed": true
   },
   "source": [
    "### From the given 'Iris' dataset, predict the optimum number of clusters and represent it visually"
   ]
  },
  {
   "cell_type": "markdown",
   "id": "e67c6e29-79df-428a-950b-42c3b933f6b7",
   "metadata": {},
   "source": [
    "## <font color='red'> Author:</font>"
   ]
  },
  {
   "cell_type": "markdown",
   "id": "18df1afe-f8db-40f9-99e4-2a0e4ec6e463",
   "metadata": {
    "jp-MarkdownHeadingCollapsed": true
   },
   "source": [
    "### Mohammed Abu Bakkar Kuchikar"
   ]
  },
  {
   "cell_type": "markdown",
   "id": "6b4ac83c-0101-4805-88a3-b2fe902e8d60",
   "metadata": {},
   "source": [
    "## <font color='red'> Phase 1: Creation and Visualization of Iris Dataset </font>"
   ]
  },
  {
   "cell_type": "markdown",
   "id": "fc3730a5-794c-4163-a193-ab6a4be84e1e",
   "metadata": {},
   "source": [
    "### Importing Dependencies"
   ]
  },
  {
   "cell_type": "code",
   "execution_count": 5,
   "id": "0c1138b1-68b7-4e43-a3d9-1fa3b25bd1cd",
   "metadata": {},
   "outputs": [],
   "source": [
    "import warnings\n",
    "warnings.filterwarnings('ignore')"
   ]
  },
  {
   "cell_type": "code",
   "execution_count": 7,
   "id": "03e6c53e-f872-4e21-b4e6-d957a02fad48",
   "metadata": {},
   "outputs": [],
   "source": [
    "import pandas as pd\n",
    "from sklearn.model_selection import train_test_split\n",
    "from matplotlib import pyplot as plt\n",
    "from sklearn.preprocessing import MinMaxScaler\n",
    "from sklearn.cluster import KMeans\n",
    "from sklearn.datasets import load_iris"
   ]
  },
  {
   "cell_type": "markdown",
   "id": "6937d280-8d93-4db1-8a47-0e261d8865ca",
   "metadata": {},
   "source": [
    "### Reading Iris Dataset from Sci-kit Learn Library"
   ]
  },
  {
   "cell_type": "code",
   "execution_count": 8,
   "id": "b44ee89c-5252-4c4d-980f-9e6eca140bf0",
   "metadata": {},
   "outputs": [],
   "source": [
    "iris=load_iris()"
   ]
  },
  {
   "cell_type": "code",
   "execution_count": 9,
   "id": "aad8a96d-f454-4557-9ae6-c29f120341ed",
   "metadata": {},
   "outputs": [
    {
     "data": {
      "text/html": [
       "<div>\n",
       "<style scoped>\n",
       "    .dataframe tbody tr th:only-of-type {\n",
       "        vertical-align: middle;\n",
       "    }\n",
       "\n",
       "    .dataframe tbody tr th {\n",
       "        vertical-align: top;\n",
       "    }\n",
       "\n",
       "    .dataframe thead th {\n",
       "        text-align: right;\n",
       "    }\n",
       "</style>\n",
       "<table border=\"1\" class=\"dataframe\">\n",
       "  <thead>\n",
       "    <tr style=\"text-align: right;\">\n",
       "      <th></th>\n",
       "      <th>sepal length (cm)</th>\n",
       "      <th>sepal width (cm)</th>\n",
       "      <th>petal length (cm)</th>\n",
       "      <th>petal width (cm)</th>\n",
       "    </tr>\n",
       "  </thead>\n",
       "  <tbody>\n",
       "    <tr>\n",
       "      <th>0</th>\n",
       "      <td>5.1</td>\n",
       "      <td>3.5</td>\n",
       "      <td>1.4</td>\n",
       "      <td>0.2</td>\n",
       "    </tr>\n",
       "    <tr>\n",
       "      <th>1</th>\n",
       "      <td>4.9</td>\n",
       "      <td>3.0</td>\n",
       "      <td>1.4</td>\n",
       "      <td>0.2</td>\n",
       "    </tr>\n",
       "    <tr>\n",
       "      <th>2</th>\n",
       "      <td>4.7</td>\n",
       "      <td>3.2</td>\n",
       "      <td>1.3</td>\n",
       "      <td>0.2</td>\n",
       "    </tr>\n",
       "    <tr>\n",
       "      <th>3</th>\n",
       "      <td>4.6</td>\n",
       "      <td>3.1</td>\n",
       "      <td>1.5</td>\n",
       "      <td>0.2</td>\n",
       "    </tr>\n",
       "    <tr>\n",
       "      <th>4</th>\n",
       "      <td>5.0</td>\n",
       "      <td>3.6</td>\n",
       "      <td>1.4</td>\n",
       "      <td>0.2</td>\n",
       "    </tr>\n",
       "    <tr>\n",
       "      <th>...</th>\n",
       "      <td>...</td>\n",
       "      <td>...</td>\n",
       "      <td>...</td>\n",
       "      <td>...</td>\n",
       "    </tr>\n",
       "    <tr>\n",
       "      <th>145</th>\n",
       "      <td>6.7</td>\n",
       "      <td>3.0</td>\n",
       "      <td>5.2</td>\n",
       "      <td>2.3</td>\n",
       "    </tr>\n",
       "    <tr>\n",
       "      <th>146</th>\n",
       "      <td>6.3</td>\n",
       "      <td>2.5</td>\n",
       "      <td>5.0</td>\n",
       "      <td>1.9</td>\n",
       "    </tr>\n",
       "    <tr>\n",
       "      <th>147</th>\n",
       "      <td>6.5</td>\n",
       "      <td>3.0</td>\n",
       "      <td>5.2</td>\n",
       "      <td>2.0</td>\n",
       "    </tr>\n",
       "    <tr>\n",
       "      <th>148</th>\n",
       "      <td>6.2</td>\n",
       "      <td>3.4</td>\n",
       "      <td>5.4</td>\n",
       "      <td>2.3</td>\n",
       "    </tr>\n",
       "    <tr>\n",
       "      <th>149</th>\n",
       "      <td>5.9</td>\n",
       "      <td>3.0</td>\n",
       "      <td>5.1</td>\n",
       "      <td>1.8</td>\n",
       "    </tr>\n",
       "  </tbody>\n",
       "</table>\n",
       "<p>150 rows × 4 columns</p>\n",
       "</div>"
      ],
      "text/plain": [
       "     sepal length (cm)  sepal width (cm)  petal length (cm)  petal width (cm)\n",
       "0                  5.1               3.5                1.4               0.2\n",
       "1                  4.9               3.0                1.4               0.2\n",
       "2                  4.7               3.2                1.3               0.2\n",
       "3                  4.6               3.1                1.5               0.2\n",
       "4                  5.0               3.6                1.4               0.2\n",
       "..                 ...               ...                ...               ...\n",
       "145                6.7               3.0                5.2               2.3\n",
       "146                6.3               2.5                5.0               1.9\n",
       "147                6.5               3.0                5.2               2.0\n",
       "148                6.2               3.4                5.4               2.3\n",
       "149                5.9               3.0                5.1               1.8\n",
       "\n",
       "[150 rows x 4 columns]"
      ]
     },
     "execution_count": 9,
     "metadata": {},
     "output_type": "execute_result"
    }
   ],
   "source": [
    "df=pd.DataFrame(iris.data,columns=iris.feature_names)\n",
    "df"
   ]
  },
  {
   "cell_type": "markdown",
   "id": "4eeda856-3ac7-4f80-84b6-7a4b6ae59b36",
   "metadata": {},
   "source": [
    "### Getting a summarized report of iris dataset"
   ]
  },
  {
   "cell_type": "code",
   "execution_count": 10,
   "id": "32381f80-dc6c-4e3d-88a5-f7a5a69e3cd8",
   "metadata": {},
   "outputs": [
    {
     "name": "stdout",
     "output_type": "stream",
     "text": [
      "<class 'pandas.core.frame.DataFrame'>\n",
      "RangeIndex: 150 entries, 0 to 149\n",
      "Data columns (total 4 columns):\n",
      " #   Column             Non-Null Count  Dtype  \n",
      "---  ------             --------------  -----  \n",
      " 0   sepal length (cm)  150 non-null    float64\n",
      " 1   sepal width (cm)   150 non-null    float64\n",
      " 2   petal length (cm)  150 non-null    float64\n",
      " 3   petal width (cm)   150 non-null    float64\n",
      "dtypes: float64(4)\n",
      "memory usage: 4.8 KB\n"
     ]
    }
   ],
   "source": [
    "df.info()"
   ]
  },
  {
   "cell_type": "markdown",
   "id": "7e55f0c8-be4f-444a-975d-3c413dd6bc9c",
   "metadata": {},
   "source": [
    "### Visualizing the points in scatter plot to get a better understanding"
   ]
  },
  {
   "cell_type": "code",
   "execution_count": 11,
   "id": "9dbc9991-f430-4c35-b3ae-5225dcc80019",
   "metadata": {},
   "outputs": [
    {
     "data": {
      "text/plain": [
       "Text(0, 0.5, 'Width (cm)')"
      ]
     },
     "execution_count": 11,
     "metadata": {},
     "output_type": "execute_result"
    },
    {
     "data": {
      "image/png": "[encoded data removed]",
      "text/plain": [
       "<Figure size 640x480 with 1 Axes>"
      ]
     },
     "metadata": {},
     "output_type": "display_data"
    }
   ],
   "source": [
    "%matplotlib inline\n",
    "plt.scatter(df['petal length (cm)'],df['petal width (cm)'])\n",
    "plt.scatter(df['sepal length (cm)'],df['sepal width (cm)'])\n",
    "plt.xlabel('Length (cm)')\n",
    "plt.ylabel('Width (cm)')"
   ]
  },
  {
   "cell_type": "markdown",
   "id": "5864dcec-f959-40bd-8ec9-326b8dec6bd9",
   "metadata": {},
   "source": [
    "## <font color='red'> Phase 2: Discovery of optimal clusters</font>"
   ]
  },
  {
   "cell_type": "markdown",
   "id": "7f772b9d-3584-458c-8cc2-a1d86187ebc2",
   "metadata": {},
   "source": [
    "### Performing SSE to get the perfect centroid"
   ]
  },
  {
   "cell_type": "code",
   "execution_count": 12,
   "id": "70d1c88f-7e24-46ba-aa60-0302f45a40e1",
   "metadata": {},
   "outputs": [],
   "source": [
    "k_range=range(1,len(df))\n",
    "sse=[]\n",
    "for k in k_range:\n",
    "    km=KMeans(n_clusters=k)\n",
    "    km.fit(df)\n",
    "    sse.append(km.inertia_)"
   ]
  },
  {
   "cell_type": "code",
   "execution_count": 13,
   "id": "04ed22ff-c51c-41d1-90e2-7671e7e3c728",
   "metadata": {
    "scrolled": true
   },
   "outputs": [
    {
     "data": {
      "text/plain": [
       "[681.3706,\n",
       " 152.3479517603579,\n",
       " 78.851441426146,\n",
       " 57.22847321428572,\n",
       " 46.446182051282065,\n",
       " 39.30610712530712,\n",
       " 34.40900974025975,\n",
       " 30.06459307359308,\n",
       " 27.93499154011512,\n",
       " 26.12133613995971,\n",
       " 25.14283330609132,\n",
       " 22.929401892225428,\n",
       " 21.817499434389145,\n",
       " 19.65766848816706,\n",
       " 18.485562827523353,\n",
       " 17.78749248120301,\n",
       " 17.299979373567616,\n",
       " 16.283790106951873,\n",
       " 15.294976190476195,\n",
       " 14.805774761186527,\n",
       " 13.978170274170278,\n",
       " 13.899279761904761,\n",
       " 13.089940476190478,\n",
       " 12.943597680097682,\n",
       " 12.201880952380954,\n",
       " 11.951475490196074,\n",
       " 11.315673382173387,\n",
       " 10.809604700854699,\n",
       " 10.601667748917745,\n",
       " 10.39871428571429,\n",
       " 9.964557692307693,\n",
       " 9.660376984126984,\n",
       " 9.132079503829504,\n",
       " 8.983897130647133,\n",
       " 8.908795454545453,\n",
       " 8.251944444444444,\n",
       " 8.30449134199134,\n",
       " 7.84346176046176,\n",
       " 7.808333333333335,\n",
       " 7.387583333333334,\n",
       " 7.348559523809526,\n",
       " 7.077753968253967,\n",
       " 6.6875,\n",
       " 6.461666666666666,\n",
       " 6.4202222222222245,\n",
       " 6.241545454545456,\n",
       " 5.888416666666664,\n",
       " 5.815476190476191,\n",
       " 5.62048556998557,\n",
       " 5.497611111111111,\n",
       " 5.27675,\n",
       " 5.074166666666667,\n",
       " 4.985083333333334,\n",
       " 4.769178571428573,\n",
       " 4.531833333333335,\n",
       " 4.514583333333334,\n",
       " 4.210166666666668,\n",
       " 4.23957142857143,\n",
       " 4.161666666666666,\n",
       " 3.9228989898989903,\n",
       " 3.8655833333333334,\n",
       " 3.7428452380952395,\n",
       " 3.542083333333334,\n",
       " 3.504904761904762,\n",
       " 3.3639047619047635,\n",
       " 3.1708333333333334,\n",
       " 3.1315,\n",
       " 3.0772380952380955,\n",
       " 2.998611111111111,\n",
       " 2.788571428571429,\n",
       " 2.7718333333333343,\n",
       " 2.678166666666666,\n",
       " 2.6004047619047626,\n",
       " 2.5088333333333335,\n",
       " 2.4480714285714287,\n",
       " 2.3041666666666663,\n",
       " 2.2605,\n",
       " 2.206428571428571,\n",
       " 2.0490000000000004,\n",
       " 2.025666666666667,\n",
       " 2.004666666666667,\n",
       " 1.8616666666666668,\n",
       " 1.8165000000000007,\n",
       " 1.7570000000000001,\n",
       " 1.6821666666666673,\n",
       " 1.6013333333333342,\n",
       " 1.5937380952380953,\n",
       " 1.5403333333333338,\n",
       " 1.4452380952380959,\n",
       " 1.4000000000000006,\n",
       " 1.4181666666666675,\n",
       " 1.3207142857142862,\n",
       " 1.277833333333334,\n",
       " 1.222,\n",
       " 1.1644999999999999,\n",
       " 1.1316666666666677,\n",
       " 1.1316666666666673,\n",
       " 1.0370000000000001,\n",
       " 1.0248333333333337,\n",
       " 0.9690000000000005,\n",
       " 0.9328333333333338,\n",
       " 0.920666666666667,\n",
       " 0.8682142857142864,\n",
       " 0.8316666666666673,\n",
       " 0.774880952380953,\n",
       " 0.7260000000000004,\n",
       " 0.7053333333333337,\n",
       " 0.6945000000000008,\n",
       " 0.6635714285714295,\n",
       " 0.6100000000000005,\n",
       " 0.5741666666666672,\n",
       " 0.5333333333333338,\n",
       " 0.5066666666666673,\n",
       " 0.4916666666666671,\n",
       " 0.46316666666666717,\n",
       " 0.4350000000000004,\n",
       " 0.4203333333333337,\n",
       " 0.3766666666666671,\n",
       " 0.3550000000000003,\n",
       " 0.34916666666666696,\n",
       " 0.3133333333333337,\n",
       " 0.3000000000000004,\n",
       " 0.27333333333333387,\n",
       " 0.2625000000000005,\n",
       " 0.2483333333333336,\n",
       " 0.2383333333333335,\n",
       " 0.22500000000000017,\n",
       " 0.19500000000000023,\n",
       " 0.19833333333333364,\n",
       " 0.1650000000000002,\n",
       " 0.16250000000000014,\n",
       " 0.1500000000000003,\n",
       " 0.14833333333333332,\n",
       " 0.13666666666666671,\n",
       " 0.11999999999999997,\n",
       " 0.10499999999999998,\n",
       " 0.095,\n",
       " 0.08499999999999998,\n",
       " 0.075,\n",
       " 0.06499999999999997,\n",
       " 0.05499999999999996,\n",
       " 0.04499999999999999,\n",
       " 0.03500000000000004,\n",
       " 0.02500000000000002,\n",
       " 0.01999999999999997,\n",
       " 0.014999999999999958,\n",
       " 0.00999999999999995,\n",
       " 0.0049999999999999645,\n",
       " 0.0]"
      ]
     },
     "execution_count": 13,
     "metadata": {},
     "output_type": "execute_result"
    }
   ],
   "source": [
    "sse"
   ]
  },
  {
   "cell_type": "markdown",
   "id": "38b7105a-bced-4736-9178-0c643ed75028",
   "metadata": {},
   "source": [
    "### By plotting SSE, we can get the optimal centroids count\n",
    "#### In this case, 3 is the Elbow point, so it's the optimal centroids count"
   ]
  },
  {
   "cell_type": "code",
   "execution_count": 14,
   "id": "d24b362f-4471-465b-b84f-ae8ccb350195",
   "metadata": {},
   "outputs": [
    {
     "data": {
      "text/plain": [
       "[<matplotlib.lines.Line2D at 0x1aa19495ed0>]"
      ]
     },
     "execution_count": 14,
     "metadata": {},
     "output_type": "execute_result"
    },
    {
     "data": {
      "image/png": "[encoded data removed]",
      "text/plain": [
       "<Figure size 640x480 with 1 Axes>"
      ]
     },
     "metadata": {},
     "output_type": "display_data"
    }
   ],
   "source": [
    "plt.plot(k_range,sse)"
   ]
  },
  {
   "cell_type": "markdown",
   "id": "5bb08a88-eabf-433b-8912-2b12b960460b",
   "metadata": {},
   "source": [
    "## <font color='red'> Phase 3: Creation and Implementation of K-Means Clustering on Iris Dataset </font>"
   ]
  },
  {
   "cell_type": "markdown",
   "id": "c338c2d7-fe26-4b36-b70f-79b657802381",
   "metadata": {},
   "source": [
    "### Creating a model of K Means with 3 clusters"
   ]
  },
  {
   "cell_type": "code",
   "execution_count": 15,
   "id": "696a40cd-884d-4450-be41-b9c3660d4b86",
   "metadata": {},
   "outputs": [],
   "source": [
    "km=KMeans(n_clusters=3)"
   ]
  },
  {
   "cell_type": "markdown",
   "id": "79da88b1-97c8-4b5e-be7a-2466bd7b41b7",
   "metadata": {},
   "source": [
    "### Predicting (Assigning) the cluster points to each row of the dataset"
   ]
  },
  {
   "cell_type": "code",
   "execution_count": 16,
   "id": "12f6c8be-1759-4fbe-87ca-bb4e9d935430",
   "metadata": {},
   "outputs": [
    {
     "data": {
      "text/plain": [
       "array([1, 1, 1, 1, 1, 1, 1, 1, 1, 1, 1, 1, 1, 1, 1, 1, 1, 1, 1, 1, 1, 1,\n",
       "       1, 1, 1, 1, 1, 1, 1, 1, 1, 1, 1, 1, 1, 1, 1, 1, 1, 1, 1, 1, 1, 1,\n",
       "       1, 1, 1, 1, 1, 1, 0, 0, 2, 0, 0, 0, 0, 0, 0, 0, 0, 0, 0, 0, 0, 0,\n",
       "       0, 0, 0, 0, 0, 0, 0, 0, 0, 0, 0, 2, 0, 0, 0, 0, 0, 0, 0, 0, 0, 0,\n",
       "       0, 0, 0, 0, 0, 0, 0, 0, 0, 0, 0, 0, 2, 0, 2, 2, 2, 2, 0, 2, 2, 2,\n",
       "       2, 2, 2, 0, 0, 2, 2, 2, 2, 0, 2, 0, 2, 0, 2, 2, 0, 0, 2, 2, 2, 2,\n",
       "       2, 0, 2, 2, 2, 2, 0, 2, 2, 2, 0, 2, 2, 2, 0, 2, 2, 0])"
      ]
     },
     "execution_count": 16,
     "metadata": {},
     "output_type": "execute_result"
    }
   ],
   "source": [
    "clusters=km.fit_predict(df)\n",
    "clusters"
   ]
  },
  {
   "cell_type": "markdown",
   "id": "2771f9cf-8e22-44a7-93eb-8d50e25efd2e",
   "metadata": {},
   "source": [
    "### Storing the assigned cluster values in a new column called clusters in our dataframe"
   ]
  },
  {
   "cell_type": "code",
   "execution_count": 17,
   "id": "7fceb489-32f5-4e65-9433-0f6b5675bdac",
   "metadata": {},
   "outputs": [
    {
     "data": {
      "text/html": [
       "<div>\n",
       "<style scoped>\n",
       "    .dataframe tbody tr th:only-of-type {\n",
       "        vertical-align: middle;\n",
       "    }\n",
       "\n",
       "    .dataframe tbody tr th {\n",
       "        vertical-align: top;\n",
       "    }\n",
       "\n",
       "    .dataframe thead th {\n",
       "        text-align: right;\n",
       "    }\n",
       "</style>\n",
       "<table border=\"1\" class=\"dataframe\">\n",
       "  <thead>\n",
       "    <tr style=\"text-align: right;\">\n",
       "      <th></th>\n",
       "      <th>sepal length (cm)</th>\n",
       "      <th>sepal width (cm)</th>\n",
       "      <th>petal length (cm)</th>\n",
       "      <th>petal width (cm)</th>\n",
       "      <th>clusters</th>\n",
       "    </tr>\n",
       "  </thead>\n",
       "  <tbody>\n",
       "    <tr>\n",
       "      <th>0</th>\n",
       "      <td>5.1</td>\n",
       "      <td>3.5</td>\n",
       "      <td>1.4</td>\n",
       "      <td>0.2</td>\n",
       "      <td>1</td>\n",
       "    </tr>\n",
       "    <tr>\n",
       "      <th>1</th>\n",
       "      <td>4.9</td>\n",
       "      <td>3.0</td>\n",
       "      <td>1.4</td>\n",
       "      <td>0.2</td>\n",
       "      <td>1</td>\n",
       "    </tr>\n",
       "    <tr>\n",
       "      <th>2</th>\n",
       "      <td>4.7</td>\n",
       "      <td>3.2</td>\n",
       "      <td>1.3</td>\n",
       "      <td>0.2</td>\n",
       "      <td>1</td>\n",
       "    </tr>\n",
       "    <tr>\n",
       "      <th>3</th>\n",
       "      <td>4.6</td>\n",
       "      <td>3.1</td>\n",
       "      <td>1.5</td>\n",
       "      <td>0.2</td>\n",
       "      <td>1</td>\n",
       "    </tr>\n",
       "    <tr>\n",
       "      <th>4</th>\n",
       "      <td>5.0</td>\n",
       "      <td>3.6</td>\n",
       "      <td>1.4</td>\n",
       "      <td>0.2</td>\n",
       "      <td>1</td>\n",
       "    </tr>\n",
       "    <tr>\n",
       "      <th>...</th>\n",
       "      <td>...</td>\n",
       "      <td>...</td>\n",
       "      <td>...</td>\n",
       "      <td>...</td>\n",
       "      <td>...</td>\n",
       "    </tr>\n",
       "    <tr>\n",
       "      <th>145</th>\n",
       "      <td>6.7</td>\n",
       "      <td>3.0</td>\n",
       "      <td>5.2</td>\n",
       "      <td>2.3</td>\n",
       "      <td>2</td>\n",
       "    </tr>\n",
       "    <tr>\n",
       "      <th>146</th>\n",
       "      <td>6.3</td>\n",
       "      <td>2.5</td>\n",
       "      <td>5.0</td>\n",
       "      <td>1.9</td>\n",
       "      <td>0</td>\n",
       "    </tr>\n",
       "    <tr>\n",
       "      <th>147</th>\n",
       "      <td>6.5</td>\n",
       "      <td>3.0</td>\n",
       "      <td>5.2</td>\n",
       "      <td>2.0</td>\n",
       "      <td>2</td>\n",
       "    </tr>\n",
       "    <tr>\n",
       "      <th>148</th>\n",
       "      <td>6.2</td>\n",
       "      <td>3.4</td>\n",
       "      <td>5.4</td>\n",
       "      <td>2.3</td>\n",
       "      <td>2</td>\n",
       "    </tr>\n",
       "    <tr>\n",
       "      <th>149</th>\n",
       "      <td>5.9</td>\n",
       "      <td>3.0</td>\n",
       "      <td>5.1</td>\n",
       "      <td>1.8</td>\n",
       "      <td>0</td>\n",
       "    </tr>\n",
       "  </tbody>\n",
       "</table>\n",
       "<p>150 rows × 5 columns</p>\n",
       "</div>"
      ],
      "text/plain": [
       "     sepal length (cm)  sepal width (cm)  petal length (cm)  petal width (cm)  \\\n",
       "0                  5.1               3.5                1.4               0.2   \n",
       "1                  4.9               3.0                1.4               0.2   \n",
       "2                  4.7               3.2                1.3               0.2   \n",
       "3                  4.6               3.1                1.5               0.2   \n",
       "4                  5.0               3.6                1.4               0.2   \n",
       "..                 ...               ...                ...               ...   \n",
       "145                6.7               3.0                5.2               2.3   \n",
       "146                6.3               2.5                5.0               1.9   \n",
       "147                6.5               3.0                5.2               2.0   \n",
       "148                6.2               3.4                5.4               2.3   \n",
       "149                5.9               3.0                5.1               1.8   \n",
       "\n",
       "     clusters  \n",
       "0           1  \n",
       "1           1  \n",
       "2           1  \n",
       "3           1  \n",
       "4           1  \n",
       "..        ...  \n",
       "145         2  \n",
       "146         0  \n",
       "147         2  \n",
       "148         2  \n",
       "149         0  \n",
       "\n",
       "[150 rows x 5 columns]"
      ]
     },
     "execution_count": 17,
     "metadata": {},
     "output_type": "execute_result"
    }
   ],
   "source": [
    "df['clusters']=clusters\n",
    "df"
   ]
  },
  {
   "cell_type": "markdown",
   "id": "63683f90-3a1c-4647-9604-34f2c7f2aa8e",
   "metadata": {},
   "source": [
    "### Assigning all the columns to variable 'x' of our Iris dataframe except 'clusters' column"
   ]
  },
  {
   "cell_type": "code",
   "execution_count": 18,
   "id": "81fef2b5-a213-4a45-ba23-c185f185db9e",
   "metadata": {},
   "outputs": [],
   "source": [
    "x=df.drop('clusters',axis='columns').values"
   ]
  },
  {
   "cell_type": "markdown",
   "id": "213d85b2-2010-4c82-8c97-2207834d980f",
   "metadata": {},
   "source": [
    "### Getting the centroid values"
   ]
  },
  {
   "cell_type": "code",
   "execution_count": 19,
   "id": "e019a035-70bf-47df-85d1-f76359384cf3",
   "metadata": {},
   "outputs": [
    {
     "data": {
      "text/plain": [
       "array([[5.9016129 , 2.7483871 , 4.39354839, 1.43387097],\n",
       "       [5.006     , 3.428     , 1.462     , 0.246     ],\n",
       "       [6.85      , 3.07368421, 5.74210526, 2.07105263]])"
      ]
     },
     "execution_count": 19,
     "metadata": {},
     "output_type": "execute_result"
    }
   ],
   "source": [
    "centroids=km.cluster_centers_\n",
    "centroids"
   ]
  },
  {
   "cell_type": "markdown",
   "id": "11c122f4-e7d0-47d4-9bce-54870f33ada9",
   "metadata": {},
   "source": [
    "### Plotting the gouped final output in a scatter plot"
   ]
  },
  {
   "cell_type": "code",
   "execution_count": 20,
   "id": "f9660b95-13fe-4d0e-9273-757525b86511",
   "metadata": {},
   "outputs": [
    {
     "data": {
      "image/png": "[encoded data removed]",
      "text/plain": [
       "<Figure size 640x480 with 1 Axes>"
      ]
     },
     "metadata": {},
     "output_type": "display_data"
    }
   ],
   "source": [
    "plt.scatter(x[clusters==0,0],x[clusters==0,1],color='r',label='Setosa')\n",
    "plt.scatter(x[clusters==1,0],x[clusters==1,1],color='g',label='versicolor')\n",
    "plt.scatter(x[clusters==2,0],x[clusters==2,1],color='b',label='virginica')\n",
    "plt.scatter(centroids[:,0],centroids[:,1],color='orange',s=200,label='centroids')\n",
    "plt.xlabel('length (cm)')\n",
    "plt.ylabel('width (cm)')\n",
    "plt.title('K Means Clustering (with centroids)')\n",
    "plt.legend()\n",
    "plt.show()"
   ]
  },
  {
   "cell_type": "markdown",
   "id": "96353308-0e2d-41d5-b302-8485d3a98379",
   "metadata": {},
   "source": [
    "# <font color='yellow'><center>THANK YOU</center></font>"
   ]
  }
 ],
 "metadata": {
  "kernelspec": {
   "display_name": "Python 3 (ipykernel)",
   "language": "python",
   "name": "python3"
  },
  "language_info": {
   "codemirror_mode": {
    "name": "ipython",
    "version": 3
   },
   "file_extension": ".py",
   "mimetype": "text/x-python",
   "name": "python",
   "nbconvert_exporter": "python",
   "pygments_lexer": "ipython3",
   "version": "3.10.13"
  }
 },
 "nbformat": 4,
 "nbformat_minor": 5
}
